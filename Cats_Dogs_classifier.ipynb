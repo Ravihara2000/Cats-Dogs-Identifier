{
  "nbformat": 4,
  "nbformat_minor": 0,
  "metadata": {
    "colab": {
      "provenance": [],
      "gpuType": "T4",
      "authorship_tag": "ABX9TyMElfzEsheJ0kvsgGo6dY6a",
      "include_colab_link": true
    },
    "kernelspec": {
      "name": "python3",
      "display_name": "Python 3"
    },
    "language_info": {
      "name": "python"
    },
    "accelerator": "GPU"
  },
  "cells": [
    {
      "cell_type": "markdown",
      "metadata": {
        "id": "view-in-github",
        "colab_type": "text"
      },
      "source": [
        "<a href=\"https://colab.research.google.com/github/Ravihara2000/Cats-Dogs-Identifier/blob/main/Cats_Dogs_classifier.ipynb\" target=\"_parent\"><img src=\"https://colab.research.google.com/assets/colab-badge.svg\" alt=\"Open In Colab\"/></a>"
      ]
    },
    {
      "cell_type": "code",
      "source": [
        "!pip install numpy -q\n",
        "!pip install pandas -q\n",
        "!pip install matplotlib -q\n",
        "!pip install tensorflow -q\n",
        "\n",
        "!pip install opendatasets -q"
      ],
      "metadata": {
        "id": "1xGFB0soYT-v"
      },
      "execution_count": 1,
      "outputs": []
    },
    {
      "cell_type": "code",
      "source": [],
      "metadata": {
        "id": "sKOw236nZrKq"
      },
      "execution_count": null,
      "outputs": []
    }
  ]
}